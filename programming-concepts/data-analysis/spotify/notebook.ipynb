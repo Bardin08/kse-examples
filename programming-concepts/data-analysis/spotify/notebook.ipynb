{
 "cells": [
  {
   "cell_type": "markdown",
   "source": [
    "### Explicit songs: Find amount of explicit songs\n",
    "### The most popular year: Find the year when the most songs were released\n",
    "### The most popular word in songs names: Find the most popular word in songs names\n",
    "### Top Three Genres: Identify the three genres that occur most frequently in the dataset."
   ],
   "metadata": {
    "collapsed": false
   },
   "id": "e5bd33e18f285bc1"
  },
  {
   "cell_type": "code",
   "outputs": [
    {
     "name": "stdout",
     "output_type": "stream",
     "text": [
      "1. Number of explicit songs: 22\n"
     ]
    }
   ],
   "source": [
    "import csv\n",
    "\n",
    "rows = []\n",
    "with open(\"spotify.csv\", mode=\"r\") as file:\n",
    "    csv_reader = csv.reader(file)\n",
    "    for _, line in enumerate(csv_reader):\n",
    "        rows.append(line)\n",
    "\n",
    "IS_EXPLICIT_INDEX = 2\n",
    "\n",
    "counter = 0\n",
    "for row in rows:\n",
    "    if row[IS_EXPLICIT_INDEX] == 'True':\n",
    "        counter += 1\n",
    "\n",
    "print(f\"1. Number of explicit songs: {counter}\")"
   ],
   "metadata": {
    "collapsed": false,
    "ExecuteTime": {
     "end_time": "2024-03-02T10:48:43.013196Z",
     "start_time": "2024-03-02T10:48:43.009717Z"
    }
   },
   "id": "1bccbbf3b803848b",
   "execution_count": 111
  },
  {
   "cell_type": "code",
   "outputs": [
    {
     "name": "stdout",
     "output_type": "stream",
     "text": [
      "2. The most popular year was 2023. 27 songs were released!\n"
     ]
    }
   ],
   "source": [
    "TRACK_RELEASE_YEAR_INDEX = 3\n",
    "\n",
    "rows_filtered = list(filter(lambda x: x[TRACK_RELEASE_YEAR_INDEX] != ' ' or None, rows))\n",
    "release_years = []\n",
    "for row in rows_filtered:\n",
    "    release_years.append(row[TRACK_RELEASE_YEAR_INDEX][0:4])\n",
    "\n",
    "years_distribution = {}\n",
    "for year in release_years:\n",
    "    years_distribution[year] = years_distribution[year] + 1 if years_distribution.__contains__(year) else 1\n",
    "\n",
    "ordered_years = sorted(years_distribution.items(), key=lambda x: x[1], reverse=True)\n",
    "top_year, songs_released = ordered_years[0]\n",
    "\n",
    "print(f\"2. The most popular year was {top_year}. {songs_released} songs were released!\")"
   ],
   "metadata": {
    "collapsed": false,
    "ExecuteTime": {
     "end_time": "2024-03-02T10:48:43.023402Z",
     "start_time": "2024-03-02T10:48:43.013321Z"
    }
   },
   "id": "467ed32b936ba211",
   "execution_count": 112
  },
  {
   "cell_type": "code",
   "outputs": [
    {
     "name": "stdout",
     "output_type": "stream",
     "text": [
      "(2023, 27)\n"
     ]
    }
   ],
   "source": [
    "import pandas\n",
    "\n",
    "df = pandas.read_csv(\"spotify.csv\")\n",
    "years_distribution = pandas.to_datetime(df['album_release_date']).dt.year.value_counts().sort_values(ascending=False)\n",
    "years_distribution = years_distribution.to_dict()\n",
    "\n",
    "print(list(years_distribution.items())[0])\n"
   ],
   "metadata": {
    "collapsed": false,
    "ExecuteTime": {
     "end_time": "2024-03-02T10:48:43.032906Z",
     "start_time": "2024-03-02T10:48:43.023402Z"
    }
   },
   "id": "47f5243c4884373",
   "execution_count": 113
  },
  {
   "cell_type": "code",
   "outputs": [
    {
     "name": "stdout",
     "output_type": "stream",
     "text": [
      "[('with', 5)]\n"
     ]
    }
   ],
   "source": [
    "from collections import Counter\n",
    "import re\n",
    "\n",
    "def clean_track_name(track_name):\n",
    "    cleaned = re.sub(r'[^A-Za-z\\s]', '', track_name)\n",
    "    cleaned = ' '.join(cleaned.split())\n",
    "    return cleaned.lower()\n",
    "\n",
    "# Apply the cleanup function to the track names\n",
    "df['cleaned_track_name'] = df['track_name'].apply(clean_track_name)\n",
    "\n",
    "words = ' '.join(df['cleaned_track_name']).lower().split()\n",
    "counts = Counter(words)\n",
    "\n",
    "print(counts.most_common(1))"
   ],
   "metadata": {
    "collapsed": false,
    "ExecuteTime": {
     "end_time": "2024-03-02T10:48:43.039437Z",
     "start_time": "2024-03-02T10:48:43.032906Z"
    }
   },
   "id": "70e240baf1422c2f",
   "execution_count": 114
  },
  {
   "cell_type": "code",
   "outputs": [
    {
     "name": "stdout",
     "output_type": "stream",
     "text": [
      "[('pop', 17), ('trap latino', 10), ('urbano latino', 10)]\n"
     ]
    }
   ],
   "source": [
    "def flat(input_list):\n",
    "    def flat_internal(flatten_list, elem):\n",
    "        if not (isinstance(elem, list) or isinstance(elem, tuple)):\n",
    "            flatten_list.append(elem)\n",
    "            return\n",
    "\n",
    "        for it in elem:\n",
    "            if not (isinstance(it, list) or isinstance(it, tuple)):\n",
    "                flatten_list.append(it)\n",
    "            else:\n",
    "                flat_internal(flatten_list, it)\n",
    "\n",
    "    res = []\n",
    "\n",
    "    for i in input_list:\n",
    "        flat_internal(res, i)\n",
    "\n",
    "    return res\n",
    "\n",
    "\n",
    "genres = flat(df['genres'].apply(func=lambda x: eval(x)).tolist())\n",
    "counts = Counter(genres)\n",
    "\n",
    "print(counts.most_common(3))"
   ],
   "metadata": {
    "collapsed": false,
    "ExecuteTime": {
     "end_time": "2024-03-02T10:48:43.048190Z",
     "start_time": "2024-03-02T10:48:43.039437Z"
    }
   },
   "id": "28baeb4259414bcf",
   "execution_count": 115
  },
  {
   "cell_type": "code",
   "outputs": [
    {
     "data": {
      "text/plain": "          track_name  popularity  duration_ms\n5       Cruel Summer          99       178427\n10  I Wanna Be Yours          96       183956\n2          As It Was          95       167303\n43           vampire          95       219724\n21           Starboy          95       230453",
      "text/html": "<div>\n<style scoped>\n    .dataframe tbody tr th:only-of-type {\n        vertical-align: middle;\n    }\n\n    .dataframe tbody tr th {\n        vertical-align: top;\n    }\n\n    .dataframe thead th {\n        text-align: right;\n    }\n</style>\n<table border=\"1\" class=\"dataframe\">\n  <thead>\n    <tr style=\"text-align: right;\">\n      <th></th>\n      <th>track_name</th>\n      <th>popularity</th>\n      <th>duration_ms</th>\n    </tr>\n  </thead>\n  <tbody>\n    <tr>\n      <th>5</th>\n      <td>Cruel Summer</td>\n      <td>99</td>\n      <td>178427</td>\n    </tr>\n    <tr>\n      <th>10</th>\n      <td>I Wanna Be Yours</td>\n      <td>96</td>\n      <td>183956</td>\n    </tr>\n    <tr>\n      <th>2</th>\n      <td>As It Was</td>\n      <td>95</td>\n      <td>167303</td>\n    </tr>\n    <tr>\n      <th>43</th>\n      <td>vampire</td>\n      <td>95</td>\n      <td>219724</td>\n    </tr>\n    <tr>\n      <th>21</th>\n      <td>Starboy</td>\n      <td>95</td>\n      <td>230453</td>\n    </tr>\n  </tbody>\n</table>\n</div>"
     },
     "execution_count": 116,
     "metadata": {},
     "output_type": "execute_result"
    }
   ],
   "source": [
    "songs = df.sort_values(['popularity', 'duration_ms'], ascending=[False, True]).head(5)\n",
    "songs[['track_name', 'popularity', 'duration_ms']]"
   ],
   "metadata": {
    "collapsed": false,
    "ExecuteTime": {
     "end_time": "2024-03-02T10:48:43.058910Z",
     "start_time": "2024-03-02T10:48:43.048190Z"
    }
   },
   "id": "e820eace6a1243c1",
   "execution_count": 116
  }
 ],
 "metadata": {
  "kernelspec": {
   "display_name": "Python 3",
   "language": "python",
   "name": "python3"
  },
  "language_info": {
   "codemirror_mode": {
    "name": "ipython",
    "version": 2
   },
   "file_extension": ".py",
   "mimetype": "text/x-python",
   "name": "python",
   "nbconvert_exporter": "python",
   "pygments_lexer": "ipython2",
   "version": "2.7.6"
  }
 },
 "nbformat": 4,
 "nbformat_minor": 5
}
