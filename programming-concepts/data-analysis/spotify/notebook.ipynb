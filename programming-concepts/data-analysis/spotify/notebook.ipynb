{
 "cells": [
  {
   "cell_type": "markdown",
   "source": [
    "### Explicit songs: Find amount of explicit songs\n",
    "### The most popular year: Find the year when the most songs were released\n",
    "### The most popular word in songs names: Find the most popular word in songs names\n",
    "### Top Three Genres: Identify the three genres that occur most frequently in the dataset."
   ],
   "metadata": {
    "collapsed": false
   },
   "id": "e5bd33e18f285bc1"
  },
  {
   "cell_type": "code",
   "outputs": [
    {
     "name": "stdout",
     "output_type": "stream",
     "text": [
      "1. Number of explicit songs: 22\n"
     ]
    }
   ],
   "source": [
    "import csv\n",
    "\n",
    "rows = []\n",
    "with open(\"spotify.csv\", mode=\"r\") as file:\n",
    "    csv_reader = csv.reader(file)\n",
    "    for _, line in enumerate(csv_reader):\n",
    "        rows.append(line)\n",
    "\n",
    "IS_EXPLICIT_INDEX = 2\n",
    "\n",
    "counter = 0\n",
    "for row in rows:\n",
    "    if row[IS_EXPLICIT_INDEX] == 'True':\n",
    "        counter += 1\n",
    "\n",
    "print(f\"1. Number of explicit songs: {counter}\")"
   ],
   "metadata": {
    "collapsed": false,
    "ExecuteTime": {
     "end_time": "2024-03-19T09:09:09.154736Z",
     "start_time": "2024-03-19T09:09:09.150865Z"
    }
   },
   "id": "1bccbbf3b803848b",
   "execution_count": 2
  },
  {
   "cell_type": "code",
   "outputs": [
    {
     "name": "stdout",
     "output_type": "stream",
     "text": [
      "2. The most popular year was 2023. 27 songs were released!\n"
     ]
    }
   ],
   "source": [
    "TRACK_RELEASE_YEAR_INDEX = 3\n",
    "\n",
    "rows_filtered = list(filter(lambda x: x[TRACK_RELEASE_YEAR_INDEX] != ' ' or None, rows))\n",
    "release_years = []\n",
    "for row in rows_filtered:\n",
    "    release_years.append(row[TRACK_RELEASE_YEAR_INDEX][0:4])\n",
    "\n",
    "years_distribution = {}\n",
    "for year in release_years:\n",
    "    years_distribution[year] = years_distribution[year] + 1 if years_distribution.__contains__(year) else 1\n",
    "\n",
    "ordered_years = sorted(years_distribution.items(), key=lambda x: x[1], reverse=True)\n",
    "top_year, songs_released = ordered_years[0]\n",
    "\n",
    "print(f\"2. The most popular year was {top_year}. {songs_released} songs were released!\")"
   ],
   "metadata": {
    "collapsed": false,
    "ExecuteTime": {
     "end_time": "2024-03-19T09:09:09.163411Z",
     "start_time": "2024-03-19T09:09:09.154736Z"
    }
   },
   "id": "467ed32b936ba211",
   "execution_count": 3
  },
  {
   "cell_type": "code",
   "outputs": [
    {
     "name": "stdout",
     "output_type": "stream",
     "text": [
      "(2023, 27)\n"
     ]
    }
   ],
   "source": [
    "import pandas\n",
    "\n",
    "df = pandas.read_csv(\"spotify.csv\")\n",
    "years_distribution = pandas.to_datetime(df['album_release_date']).dt.year.value_counts().sort_values(ascending=False)\n",
    "years_distribution = years_distribution.to_dict()\n",
    "\n",
    "print(list(years_distribution.items())[0])\n"
   ],
   "metadata": {
    "collapsed": false,
    "ExecuteTime": {
     "end_time": "2024-03-19T09:09:27.800391Z",
     "start_time": "2024-03-19T09:09:09.163501Z"
    }
   },
   "id": "47f5243c4884373",
   "execution_count": 4
  },
  {
   "cell_type": "code",
   "outputs": [
    {
     "name": "stdout",
     "output_type": "stream",
     "text": [
      "[('with', 5)]\n"
     ]
    }
   ],
   "source": [
    "from collections import Counter\n",
    "import re\n",
    "\n",
    "def clean_track_name(track_name):\n",
    "    cleaned = re.sub(r'[^A-Za-z\\s]', '', track_name)\n",
    "    cleaned = ' '.join(cleaned.split())\n",
    "    return cleaned.lower()\n",
    "\n",
    "# Apply the cleanup function to the track names\n",
    "df['cleaned_track_name'] = df['track_name'].apply(clean_track_name)\n",
    "\n",
    "words = ' '.join(df['cleaned_track_name']).lower().split()\n",
    "counts = Counter(words)\n",
    "\n",
    "print(counts.most_common(1))"
   ],
   "metadata": {
    "collapsed": false,
    "ExecuteTime": {
     "end_time": "2024-03-19T09:09:27.805112Z",
     "start_time": "2024-03-19T09:09:27.801403Z"
    }
   },
   "id": "70e240baf1422c2f",
   "execution_count": 5
  },
  {
   "cell_type": "code",
   "outputs": [
    {
     "name": "stdout",
     "output_type": "stream",
     "text": [
      "[('pop', 17), ('trap latino', 10), ('urbano latino', 10)]\n"
     ]
    }
   ],
   "source": [
    "def flat(input_list):\n",
    "    def flat_internal(flatten_list, elem):\n",
    "        if not (isinstance(elem, list) or isinstance(elem, tuple)):\n",
    "            flatten_list.append(elem)\n",
    "            return\n",
    "\n",
    "        for it in elem:\n",
    "            if not (isinstance(it, list) or isinstance(it, tuple)):\n",
    "                flatten_list.append(it)\n",
    "            else:\n",
    "                flat_internal(flatten_list, it)\n",
    "\n",
    "    res = []\n",
    "\n",
    "    for i in input_list:\n",
    "        flat_internal(res, i)\n",
    "\n",
    "    return res\n",
    "\n",
    "\n",
    "genres = flat(df['genres'].apply(func=lambda x: eval(x)).tolist())\n",
    "counts = Counter(genres)\n",
    "\n",
    "print(counts.most_common(3))"
   ],
   "metadata": {
    "collapsed": false,
    "ExecuteTime": {
     "end_time": "2024-03-19T09:09:27.814650Z",
     "start_time": "2024-03-19T09:09:27.805112Z"
    }
   },
   "id": "28baeb4259414bcf",
   "execution_count": 6
  },
  {
   "cell_type": "code",
   "outputs": [
    {
     "data": {
      "text/plain": "          track_name  popularity  duration_ms\n5       Cruel Summer          99       178427\n10  I Wanna Be Yours          96       183956\n2          As It Was          95       167303\n43           vampire          95       219724\n21           Starboy          95       230453",
      "text/html": "<div>\n<style scoped>\n    .dataframe tbody tr th:only-of-type {\n        vertical-align: middle;\n    }\n\n    .dataframe tbody tr th {\n        vertical-align: top;\n    }\n\n    .dataframe thead th {\n        text-align: right;\n    }\n</style>\n<table border=\"1\" class=\"dataframe\">\n  <thead>\n    <tr style=\"text-align: right;\">\n      <th></th>\n      <th>track_name</th>\n      <th>popularity</th>\n      <th>duration_ms</th>\n    </tr>\n  </thead>\n  <tbody>\n    <tr>\n      <th>5</th>\n      <td>Cruel Summer</td>\n      <td>99</td>\n      <td>178427</td>\n    </tr>\n    <tr>\n      <th>10</th>\n      <td>I Wanna Be Yours</td>\n      <td>96</td>\n      <td>183956</td>\n    </tr>\n    <tr>\n      <th>2</th>\n      <td>As It Was</td>\n      <td>95</td>\n      <td>167303</td>\n    </tr>\n    <tr>\n      <th>43</th>\n      <td>vampire</td>\n      <td>95</td>\n      <td>219724</td>\n    </tr>\n    <tr>\n      <th>21</th>\n      <td>Starboy</td>\n      <td>95</td>\n      <td>230453</td>\n    </tr>\n  </tbody>\n</table>\n</div>"
     },
     "execution_count": 7,
     "metadata": {},
     "output_type": "execute_result"
    }
   ],
   "source": [
    "songs = df.sort_values(['popularity', 'duration_ms'], ascending=[False, True]).head(5)\n",
    "songs[['track_name', 'popularity', 'duration_ms']]"
   ],
   "metadata": {
    "collapsed": false,
    "ExecuteTime": {
     "end_time": "2024-03-19T09:09:27.883444Z",
     "start_time": "2024-03-19T09:09:27.814650Z"
    }
   },
   "id": "e820eace6a1243c1",
   "execution_count": 7
  },
  {
   "cell_type": "markdown",
   "source": [
    "### Select all songs released between 02 & 08 months, arranged by popularity."
   ],
   "metadata": {
    "collapsed": false
   },
   "id": "d4ca369dd995dc07"
  },
  {
   "cell_type": "code",
   "outputs": [
    {
     "data": {
      "text/plain": "                                           track_name album_release_date\n2                                           As It Was         2022-05-20\n4                                     Ella Baila Sola         2023-04-28\n7                       Calm Down (with Selena Gomez)         2023-04-27\n12                                    La Bebe - Remix         2023-03-17\n17                                         La Bachata         2023-03-17\n19                                           Daylight         2023-04-14\n20                                       Another Love         2013-06-24\n24           Die For You (with Ariana Grande) - Remix         2023-03-14\n25                                    I Ain't Worried         2022-05-13\n26                                       Here With Me         2023-05-26\n27                                         Last Night         2023-03-03\n29  Until I Found You (with Em Beihold) - Em Beiho...         2022-04-22\n30                                               LALA         2023-03-23\n31              Quevedo: Bzrp Music Sessions, Vol. 52         2022-07-06\n33                                         CLASSY 101         2023-03-31\n35                                    Sweater Weather         2013-04-19\n38                                    Blinding Lights         2020-03-20\n40                                         Like Crazy         2023-03-24\n44                                                PRC         2023-06-29\n45                   See You Again (feat. Kali Uchis)         2017-07-21\n46                                    Me Porto Bonito         2022-05-06\n48                                                AMG         2023-06-30\n49                                  Romantic Homicide         2022-07-20",
      "text/html": "<div>\n<style scoped>\n    .dataframe tbody tr th:only-of-type {\n        vertical-align: middle;\n    }\n\n    .dataframe tbody tr th {\n        vertical-align: top;\n    }\n\n    .dataframe thead th {\n        text-align: right;\n    }\n</style>\n<table border=\"1\" class=\"dataframe\">\n  <thead>\n    <tr style=\"text-align: right;\">\n      <th></th>\n      <th>track_name</th>\n      <th>album_release_date</th>\n    </tr>\n  </thead>\n  <tbody>\n    <tr>\n      <th>2</th>\n      <td>As It Was</td>\n      <td>2022-05-20</td>\n    </tr>\n    <tr>\n      <th>4</th>\n      <td>Ella Baila Sola</td>\n      <td>2023-04-28</td>\n    </tr>\n    <tr>\n      <th>7</th>\n      <td>Calm Down (with Selena Gomez)</td>\n      <td>2023-04-27</td>\n    </tr>\n    <tr>\n      <th>12</th>\n      <td>La Bebe - Remix</td>\n      <td>2023-03-17</td>\n    </tr>\n    <tr>\n      <th>17</th>\n      <td>La Bachata</td>\n      <td>2023-03-17</td>\n    </tr>\n    <tr>\n      <th>19</th>\n      <td>Daylight</td>\n      <td>2023-04-14</td>\n    </tr>\n    <tr>\n      <th>20</th>\n      <td>Another Love</td>\n      <td>2013-06-24</td>\n    </tr>\n    <tr>\n      <th>24</th>\n      <td>Die For You (with Ariana Grande) - Remix</td>\n      <td>2023-03-14</td>\n    </tr>\n    <tr>\n      <th>25</th>\n      <td>I Ain't Worried</td>\n      <td>2022-05-13</td>\n    </tr>\n    <tr>\n      <th>26</th>\n      <td>Here With Me</td>\n      <td>2023-05-26</td>\n    </tr>\n    <tr>\n      <th>27</th>\n      <td>Last Night</td>\n      <td>2023-03-03</td>\n    </tr>\n    <tr>\n      <th>29</th>\n      <td>Until I Found You (with Em Beihold) - Em Beiho...</td>\n      <td>2022-04-22</td>\n    </tr>\n    <tr>\n      <th>30</th>\n      <td>LALA</td>\n      <td>2023-03-23</td>\n    </tr>\n    <tr>\n      <th>31</th>\n      <td>Quevedo: Bzrp Music Sessions, Vol. 52</td>\n      <td>2022-07-06</td>\n    </tr>\n    <tr>\n      <th>33</th>\n      <td>CLASSY 101</td>\n      <td>2023-03-31</td>\n    </tr>\n    <tr>\n      <th>35</th>\n      <td>Sweater Weather</td>\n      <td>2013-04-19</td>\n    </tr>\n    <tr>\n      <th>38</th>\n      <td>Blinding Lights</td>\n      <td>2020-03-20</td>\n    </tr>\n    <tr>\n      <th>40</th>\n      <td>Like Crazy</td>\n      <td>2023-03-24</td>\n    </tr>\n    <tr>\n      <th>44</th>\n      <td>PRC</td>\n      <td>2023-06-29</td>\n    </tr>\n    <tr>\n      <th>45</th>\n      <td>See You Again (feat. Kali Uchis)</td>\n      <td>2017-07-21</td>\n    </tr>\n    <tr>\n      <th>46</th>\n      <td>Me Porto Bonito</td>\n      <td>2022-05-06</td>\n    </tr>\n    <tr>\n      <th>48</th>\n      <td>AMG</td>\n      <td>2023-06-30</td>\n    </tr>\n    <tr>\n      <th>49</th>\n      <td>Romantic Homicide</td>\n      <td>2022-07-20</td>\n    </tr>\n  </tbody>\n</table>\n</div>"
     },
     "execution_count": 20,
     "metadata": {},
     "output_type": "execute_result"
    }
   ],
   "source": [
    "months = pandas.to_datetime(df['album_release_date']).dt.month.loc[lambda x : (x > 2) & (x < 8)]\n",
    "required_records = df.loc[months.index]\n",
    "required_records[['track_name', 'album_release_date']]"
   ],
   "metadata": {
    "collapsed": false,
    "ExecuteTime": {
     "end_time": "2024-03-19T09:17:50.873917Z",
     "start_time": "2024-03-19T09:17:50.866962Z"
    }
   },
   "id": "ac3004ac83768f59",
   "execution_count": 20
  },
  {
   "cell_type": "code",
   "outputs": [],
   "source": [],
   "metadata": {
    "collapsed": false
   },
   "id": "7dd81e50c96fb539"
  }
 ],
 "metadata": {
  "kernelspec": {
   "display_name": "Python 3",
   "language": "python",
   "name": "python3"
  },
  "language_info": {
   "codemirror_mode": {
    "name": "ipython",
    "version": 2
   },
   "file_extension": ".py",
   "mimetype": "text/x-python",
   "name": "python",
   "nbconvert_exporter": "python",
   "pygments_lexer": "ipython2",
   "version": "2.7.6"
  }
 },
 "nbformat": 4,
 "nbformat_minor": 5
}
